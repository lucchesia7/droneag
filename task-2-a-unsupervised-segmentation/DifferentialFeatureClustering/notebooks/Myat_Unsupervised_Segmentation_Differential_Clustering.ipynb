{
  "cells": [
    {
      "cell_type": "markdown",
      "source": [
        "##Unsupervised Segmentation with Differential Features Clustering\n",
        "####Data Preparation\n",
        "\n",
        "\n",
        "*   Create a official folder for droneAg Challenge/data shortcut on your own drive. (Warning: be careful that you are not modifying anything in the folder)\n",
        "*   If you don't want to create a shorcut, you can download it locally and upload to your own drive\n",
        "\n",
        "\n",
        "\n",
        "*   Create a folder on your drive (eg: 'drive/MyDrive/workspace')\n",
        "*   Add dataset.py, inference.py, network.py and train.py scripts to workspace folder.\n",
        "\n"
      ],
      "metadata": {
        "id": "DvIu4OVNw_VO"
      }
    },
    {
      "cell_type": "markdown",
      "source": [
        "### 1) Mount Drive"
      ],
      "metadata": {
        "id": "KWRwAPKg0yOT"
      }
    },
    {
      "cell_type": "code",
      "execution_count": 1,
      "metadata": {
        "colab": {
          "base_uri": "https://localhost:8080/"
        },
        "id": "IMHfKgLxlfRz",
        "outputId": "16cc1ec9-f770-4af0-db4a-130be31b4184"
      },
      "outputs": [
        {
          "output_type": "stream",
          "name": "stdout",
          "text": [
            "Mounted at /content/drive\n"
          ]
        }
      ],
      "source": [
        "from google.colab import drive\n",
        "drive.mount('/content/drive')"
      ]
    },
    {
      "cell_type": "markdown",
      "source": [
        "### 2) Navigate to workspace folder"
      ],
      "metadata": {
        "id": "X3jqUNvQ09Yw"
      }
    },
    {
      "cell_type": "code",
      "execution_count": 3,
      "metadata": {
        "colab": {
          "base_uri": "https://localhost:8080/"
        },
        "id": "wuGLrCnTmI7V",
        "outputId": "428adfe0-f052-4390-bdd1-d762a99d6e98"
      },
      "outputs": [
        {
          "output_type": "stream",
          "name": "stdout",
          "text": [
            "/content/drive/MyDrive/workspace\n"
          ]
        }
      ],
      "source": [
        "%cd 'drive/MyDrive/workspace/'"
      ]
    },
    {
      "cell_type": "markdown",
      "source": [
        "### 3) Model Training"
      ],
      "metadata": {
        "id": "cLvitPch2ZdI"
      }
    },
    {
      "cell_type": "code",
      "execution_count": null,
      "metadata": {
        "colab": {
          "base_uri": "https://localhost:8080/"
        },
        "id": "MNEMPr7pqJib",
        "outputId": "505dad0f-aa46-4bc4-91cd-9217b786a4d1"
      },
      "outputs": [
        {
          "output_type": "stream",
          "name": "stdout",
          "text": [
            "/usr/local/lib/python3.7/dist-packages/torch/nn/_reduction.py:42: UserWarning: size_average and reduce args will be deprecated, please use reduction='mean' instead.\n",
            "  warnings.warn(warning.format(ret))\n",
            "1 / 100 |  label num : 73  | loss : 2.5654690265655518\n",
            "2 / 100 |  label num : 35  | loss : 1.3175100088119507\n",
            "3 / 100 |  label num : 25  | loss : 0.7911769151687622\n",
            "4 / 100 |  label num : 22  | loss : 0.6492485404014587\n",
            "5 / 100 |  label num : 22  | loss : 0.5453081130981445\n",
            "6 / 100 |  label num : 21  | loss : 0.4562389850616455\n",
            "7 / 100 |  label num : 19  | loss : 0.40299609303474426\n",
            "8 / 100 |  label num : 19  | loss : 0.3508533537387848\n",
            "9 / 100 |  label num : 18  | loss : 0.28440457582473755\n",
            "10 / 100 |  label num : 18  | loss : 0.24028003215789795\n",
            "11 / 100 |  label num : 18  | loss : 0.2500237822532654\n",
            "12 / 100 |  label num : 15  | loss : 0.2209995836019516\n",
            "13 / 100 |  label num : 18  | loss : 0.28116828203201294\n",
            "14 / 100 |  label num : 14  | loss : 0.1906607747077942\n",
            "15 / 100 |  label num : 17  | loss : 0.2108478546142578\n",
            "16 / 100 |  label num : 13  | loss : 0.1641933023929596\n",
            "17 / 100 |  label num : 13  | loss : 0.15765802562236786\n",
            "18 / 100 |  label num : 12  | loss : 0.12658333778381348\n",
            "19 / 100 |  label num : 12  | loss : 0.13317953050136566\n",
            "20 / 100 |  label num : 11  | loss : 0.1037306934595108\n",
            "21 / 100 |  label num : 12  | loss : 0.12050310522317886\n",
            "22 / 100 |  label num : 10  | loss : 0.07741571962833405\n",
            "23 / 100 |  label num : 11  | loss : 0.09936601668596268\n",
            "24 / 100 |  label num : 13  | loss : 0.1499253809452057\n",
            "25 / 100 |  label num : 9  | loss : 0.09437944740056992\n",
            "26 / 100 |  label num : 12  | loss : 0.08055581897497177\n",
            "27 / 100 |  label num : 9  | loss : 0.07242656499147415\n",
            "28 / 100 |  label num : 10  | loss : 0.09532029926776886\n",
            "29 / 100 |  label num : 9  | loss : 0.06657028198242188\n",
            "30 / 100 |  label num : 9  | loss : 0.06400945782661438\n",
            "31 / 100 |  label num : 9  | loss : 0.0805245041847229\n",
            "32 / 100 |  label num : 9  | loss : 0.09977556020021439\n",
            "33 / 100 |  label num : 10  | loss : 0.07936159521341324\n",
            "34 / 100 |  label num : 9  | loss : 0.07964085787534714\n",
            "35 / 100 |  label num : 9  | loss : 0.07284732908010483\n",
            "36 / 100 |  label num : 9  | loss : 0.07724249362945557\n",
            "37 / 100 |  label num : 9  | loss : 0.09155009686946869\n",
            "38 / 100 |  label num : 16  | loss : 0.17855651676654816\n",
            "39 / 100 |  label num : 10  | loss : 0.09084217250347137\n",
            "40 / 100 |  label num : 9  | loss : 0.07547693699598312\n",
            "41 / 100 |  label num : 9  | loss : 0.061365820467472076\n",
            "42 / 100 |  label num : 16  | loss : 0.1658388376235962\n",
            "43 / 100 |  label num : 9  | loss : 0.07390075922012329\n",
            "44 / 100 |  label num : 9  | loss : 0.06570792198181152\n",
            "45 / 100 |  label num : 9  | loss : 0.06399232149124146\n",
            "46 / 100 |  label num : 9  | loss : 0.06229785829782486\n",
            "47 / 100 |  label num : 9  | loss : 0.06841457635164261\n",
            "48 / 100 |  label num : 9  | loss : 0.06021030992269516\n",
            "49 / 100 |  label num : 9  | loss : 0.06129844859242439\n",
            "50 / 100 |  label num : 9  | loss : 0.05094537511467934\n",
            "51 / 100 |  label num : 16  | loss : 0.1417311280965805\n",
            "52 / 100 |  label num : 9  | loss : 0.06293438374996185\n",
            "53 / 100 |  label num : 9  | loss : 0.05414516478776932\n",
            "54 / 100 |  label num : 9  | loss : 0.056822195649147034\n",
            "55 / 100 |  label num : 10  | loss : 0.04971275478601456\n",
            "56 / 100 |  label num : 9  | loss : 0.08281120657920837\n",
            "57 / 100 |  label num : 18  | loss : 0.1132761687040329\n",
            "58 / 100 |  label num : 9  | loss : 0.07964496314525604\n",
            "59 / 100 |  label num : 9  | loss : 0.07959506660699844\n",
            "60 / 100 |  label num : 9  | loss : 0.06954708695411682\n",
            "61 / 100 |  label num : 9  | loss : 0.056383244693279266\n",
            "62 / 100 |  label num : 9  | loss : 0.0561537966132164\n",
            "63 / 100 |  label num : 10  | loss : 0.0654483512043953\n",
            "64 / 100 |  label num : 11  | loss : 0.055715471506118774\n",
            "65 / 100 |  label num : 9  | loss : 0.05603558570146561\n",
            "66 / 100 |  label num : 10  | loss : 0.06167092174291611\n",
            "67 / 100 |  label num : 10  | loss : 0.05636423081159592\n",
            "68 / 100 |  label num : 10  | loss : 0.05569152906537056\n",
            "69 / 100 |  label num : 9  | loss : 0.05069039762020111\n",
            "70 / 100 |  label num : 9  | loss : 0.054834380745887756\n",
            "71 / 100 |  label num : 9  | loss : 0.04996166750788689\n",
            "72 / 100 |  label num : 9  | loss : 0.049976468086242676\n",
            "73 / 100 |  label num : 9  | loss : 0.055160872638225555\n",
            "74 / 100 |  label num : 11  | loss : 0.0622890368103981\n",
            "75 / 100 |  label num : 9  | loss : 0.04765307158231735\n",
            "76 / 100 |  label num : 11  | loss : 0.06211542338132858\n",
            "77 / 100 |  label num : 13  | loss : 0.06630048900842667\n",
            "78 / 100 |  label num : 10  | loss : 0.04883391410112381\n",
            "79 / 100 |  label num : 9  | loss : 0.05016814544796944\n",
            "80 / 100 |  label num : 9  | loss : 0.051388103514909744\n",
            "81 / 100 |  label num : 9  | loss : 0.05615190416574478\n",
            "82 / 100 |  label num : 9  | loss : 0.05035954713821411\n",
            "83 / 100 |  label num : 9  | loss : 0.04935643821954727\n",
            "84 / 100 |  label num : 9  | loss : 0.06288640946149826\n",
            "85 / 100 |  label num : 9  | loss : 0.05256141722202301\n",
            "86 / 100 |  label num : 9  | loss : 0.047178301960229874\n",
            "87 / 100 |  label num : 9  | loss : 0.04458002746105194\n",
            "88 / 100 |  label num : 9  | loss : 0.04467453435063362\n",
            "89 / 100 |  label num : 9  | loss : 0.0486271046102047\n",
            "90 / 100 |  label num : 11  | loss : 0.050802141427993774\n",
            "91 / 100 |  label num : 11  | loss : 0.06543892621994019\n",
            "92 / 100 |  label num : 9  | loss : 0.058394450694322586\n",
            "93 / 100 |  label num : 9  | loss : 0.04823854938149452\n",
            "94 / 100 |  label num : 11  | loss : 0.06846783310174942\n",
            "95 / 100 |  label num : 14  | loss : 0.07517557591199875\n",
            "96 / 100 |  label num : 9  | loss : 0.050923243165016174\n",
            "97 / 100 |  label num : 10  | loss : 0.06595545262098312\n",
            "98 / 100 |  label num : 9  | loss : 0.053131118416786194\n",
            "99 / 100 |  label num : 9  | loss : 0.04507565498352051\n",
            "100 / 100 |  label num : 9  | loss : 0.053936105221509933\n"
          ]
        }
      ],
      "source": [
        "!python train.py --nChannel 100 \\\n",
        "       --maxIter 100 --minLabels 8 \\\n",
        "       --visualize 0 --weights_path \"batch_weights_c_100_conv_3_RGB.pt\" \\\n",
        "       --nConv 3 \\\n",
        "       --input '/content/drive/MyDrive/Official Folder for DroneAg Challenge/Data/Rye'"
      ]
    },
    {
      "cell_type": "markdown",
      "source": [
        "### 4) Inference model"
      ],
      "metadata": {
        "id": "uTGAAXKc2ptE"
      }
    },
    {
      "cell_type": "code",
      "execution_count": null,
      "metadata": {
        "id": "3zEKfaodKAlS"
      },
      "outputs": [],
      "source": [
        "!python inference.py \\\n",
        "        --weights \"batch_weights_c_100_conv_3_RGB.pt\" \\\n",
        "        --nChannel 100 \\\n",
        "        --nConv 3 \\\n",
        "        --output output_20220318T145503000Z.png \\\n",
        "        --input '/content/drive/MyDrive/droneAg/custom_implementation/Rye/scout_point_image_20220318T145503000Z.jpe'"
      ]
    }
  ],
  "metadata": {
    "accelerator": "GPU",
    "colab": {
      "name": "Myat_Unsupervised_Segmentation_Differential_Clustering.ipynb",
      "provenance": []
    },
    "kernelspec": {
      "display_name": "Python 3",
      "name": "python3"
    },
    "language_info": {
      "name": "python"
    }
  },
  "nbformat": 4,
  "nbformat_minor": 0
}