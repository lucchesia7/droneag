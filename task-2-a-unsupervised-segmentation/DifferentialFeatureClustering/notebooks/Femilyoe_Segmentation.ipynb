{
  "nbformat": 4,
  "nbformat_minor": 0,
  "metadata": {
    "colab": {
      "name": "Segmentation.ipynb",
      "provenance": []
    },
    "kernelspec": {
      "name": "python3",
      "display_name": "Python 3"
    },
    "language_info": {
      "name": "python"
    },
    "accelerator": "GPU"
  },
  "cells": [
    {
      "cell_type": "code",
      "execution_count": null,
      "metadata": {
        "id": "AXshjIV_TRa4"
      },
      "outputs": [],
      "source": [
        "from google.colab import drive\n",
        "drive.mount(\"/content/drive\")"
      ]
    },
    {
      "cell_type": "code",
      "source": [
        "!pwd"
      ],
      "metadata": {
        "id": "0cUrYbuIUH8L"
      },
      "execution_count": null,
      "outputs": []
    },
    {
      "cell_type": "code",
      "source": [
        "!python /content/train.py --nChannel 100 \\\n",
        "       --maxIter 1000 --minLabels 8 \\\n",
        "       --visualize 0 --weights_path \"new_weights.pt\" \\\n",
        "        --input /content/drive/MyDrive/Data-20220522T105527Z-002/Barley"
      ],
      "metadata": {
        "id": "xUb_kGx4Tb9K"
      },
      "execution_count": null,
      "outputs": []
    },
    {
      "cell_type": "code",
      "source": [
        "!python /content/inference.py \\\n",
        "        --weights /content/new_weights.pt \\\n",
        "        --nChannel 100 \\\n",
        "        --nConv 2 \\\n",
        "        --output output.png \\\n",
        "        --input /content/drive/MyDrive/Data-20220522T105527Z-002/Barley/scout_point_image_20210118T135442000Z.jpe"
      ],
      "metadata": {
        "id": "8WJXTnm5XMbG"
      },
      "execution_count": null,
      "outputs": []
    },
    {
      "cell_type": "markdown",
      "source": [
        "# *Train in Batches*"
      ],
      "metadata": {
        "id": "Kg6nsCOBccM-"
      }
    },
    {
      "cell_type": "code",
      "source": [
        "import torch\n",
        "torch.cuda.empty_cache()"
      ],
      "metadata": {
        "id": "8K1svi6Sijnr"
      },
      "execution_count": 26,
      "outputs": []
    },
    {
      "cell_type": "code",
      "source": [
        "!python /content/train.py --nChannel 100 \\\n",
        "       --maxIter 100 --minLabels 8 \\\n",
        "       --visualize 0 --weights_path \"batch_weights_c_100_conv_5.pt\" \\\n",
        "       --nConv 3 \\\n",
        "       --input /content/drive/MyDrive/Data-20220522T105527Z-002/Rye"
      ],
      "metadata": {
        "colab": {
          "base_uri": "https://localhost:8080/"
        },
        "id": "oWCgCboXcYzc",
        "outputId": "6917a459-c21e-4983-8450-6487f0fb49ff"
      },
      "execution_count": 35,
      "outputs": [
        {
          "output_type": "stream",
          "name": "stdout",
          "text": [
            "Images loaded into array:  (315, 214, 214, 3)\n",
            "/usr/local/lib/python3.7/dist-packages/torch/nn/_reduction.py:42: UserWarning: size_average and reduce args will be deprecated, please use reduction='mean' instead.\n",
            "  warnings.warn(warning.format(ret))\n",
            "1 / 100 |  label num : 61  | loss : 2.3395097255706787\n",
            "2 / 100 |  label num : 28  | loss : 1.0371520519256592\n",
            "3 / 100 |  label num : 26  | loss : 0.6001017093658447\n",
            "4 / 100 |  label num : 25  | loss : 0.45638954639434814\n",
            "5 / 100 |  label num : 24  | loss : 0.5237675309181213\n",
            "6 / 100 |  label num : 23  | loss : 0.382306307554245\n",
            "7 / 100 |  label num : 22  | loss : 0.32544925808906555\n",
            "8 / 100 |  label num : 21  | loss : 0.2976124882698059\n",
            "9 / 100 |  label num : 19  | loss : 0.26695680618286133\n",
            "10 / 100 |  label num : 18  | loss : 0.2750001549720764\n",
            "11 / 100 |  label num : 17  | loss : 0.24052360653877258\n",
            "12 / 100 |  label num : 17  | loss : 0.21941211819648743\n",
            "13 / 100 |  label num : 18  | loss : 0.34931129217147827\n",
            "14 / 100 |  label num : 17  | loss : 0.22716106474399567\n",
            "15 / 100 |  label num : 17  | loss : 0.19814488291740417\n",
            "16 / 100 |  label num : 17  | loss : 0.20035332441329956\n",
            "17 / 100 |  label num : 17  | loss : 0.18176907300949097\n",
            "18 / 100 |  label num : 17  | loss : 0.17702388763427734\n",
            "19 / 100 |  label num : 17  | loss : 0.17950356006622314\n",
            "20 / 100 |  label num : 17  | loss : 0.17506171762943268\n",
            "21 / 100 |  label num : 17  | loss : 0.1523762047290802\n",
            "22 / 100 |  label num : 17  | loss : 0.13476084172725677\n",
            "23 / 100 |  label num : 16  | loss : 0.12160298228263855\n",
            "24 / 100 |  label num : 16  | loss : 0.11333431303501129\n",
            "25 / 100 |  label num : 15  | loss : 0.10945527255535126\n",
            "26 / 100 |  label num : 16  | loss : 0.15369319915771484\n",
            "27 / 100 |  label num : 15  | loss : 0.09318920224905014\n",
            "28 / 100 |  label num : 13  | loss : 0.08759428560733795\n",
            "29 / 100 |  label num : 14  | loss : 0.08774126321077347\n",
            "30 / 100 |  label num : 14  | loss : 0.08149701356887817\n",
            "31 / 100 |  label num : 13  | loss : 0.0859915241599083\n",
            "32 / 100 |  label num : 14  | loss : 0.08777695149183273\n",
            "33 / 100 |  label num : 14  | loss : 0.08060607314109802\n",
            "34 / 100 |  label num : 14  | loss : 0.12017689645290375\n",
            "35 / 100 |  label num : 13  | loss : 0.07270580530166626\n",
            "36 / 100 |  label num : 15  | loss : 0.11775539815425873\n",
            "37 / 100 |  label num : 14  | loss : 0.07422682642936707\n",
            "38 / 100 |  label num : 14  | loss : 0.06894903630018234\n",
            "39 / 100 |  label num : 14  | loss : 0.06725987792015076\n",
            "40 / 100 |  label num : 13  | loss : 0.07280813902616501\n",
            "41 / 100 |  label num : 13  | loss : 0.06690682470798492\n",
            "42 / 100 |  label num : 13  | loss : 0.05842098593711853\n",
            "43 / 100 |  label num : 13  | loss : 0.06563188135623932\n",
            "44 / 100 |  label num : 13  | loss : 0.06098417937755585\n",
            "45 / 100 |  label num : 12  | loss : 0.06054062396287918\n",
            "46 / 100 |  label num : 13  | loss : 0.06691421568393707\n",
            "47 / 100 |  label num : 14  | loss : 0.06816614419221878\n",
            "48 / 100 |  label num : 13  | loss : 0.05937305837869644\n",
            "49 / 100 |  label num : 13  | loss : 0.0583755299448967\n",
            "50 / 100 |  label num : 13  | loss : 0.06507711112499237\n",
            "51 / 100 |  label num : 13  | loss : 0.06022253632545471\n",
            "52 / 100 |  label num : 13  | loss : 0.059079963713884354\n",
            "53 / 100 |  label num : 14  | loss : 0.1022571548819542\n",
            "54 / 100 |  label num : 14  | loss : 0.06558943539857864\n",
            "55 / 100 |  label num : 13  | loss : 0.05945700407028198\n",
            "56 / 100 |  label num : 14  | loss : 0.1296352744102478\n",
            "57 / 100 |  label num : 13  | loss : 0.06059122085571289\n",
            "58 / 100 |  label num : 13  | loss : 0.05450832471251488\n",
            "59 / 100 |  label num : 13  | loss : 0.054398536682128906\n",
            "60 / 100 |  label num : 13  | loss : 0.0533444881439209\n",
            "61 / 100 |  label num : 13  | loss : 0.0453139953315258\n",
            "62 / 100 |  label num : 13  | loss : 0.0454089492559433\n",
            "63 / 100 |  label num : 13  | loss : 0.05242078751325607\n",
            "64 / 100 |  label num : 13  | loss : 0.05364963412284851\n",
            "65 / 100 |  label num : 13  | loss : 0.05639282613992691\n",
            "66 / 100 |  label num : 13  | loss : 0.05067205801606178\n",
            "67 / 100 |  label num : 13  | loss : 0.049084387719631195\n",
            "68 / 100 |  label num : 13  | loss : 0.05411819741129875\n",
            "69 / 100 |  label num : 13  | loss : 0.05212049558758736\n",
            "70 / 100 |  label num : 13  | loss : 0.04526069015264511\n",
            "71 / 100 |  label num : 13  | loss : 0.04716235399246216\n",
            "72 / 100 |  label num : 13  | loss : 0.044245123863220215\n",
            "73 / 100 |  label num : 12  | loss : 0.039152972400188446\n",
            "74 / 100 |  label num : 13  | loss : 0.03941234201192856\n",
            "75 / 100 |  label num : 13  | loss : 0.0464266762137413\n",
            "76 / 100 |  label num : 13  | loss : 0.040427885949611664\n",
            "77 / 100 |  label num : 13  | loss : 0.03782820701599121\n",
            "78 / 100 |  label num : 12  | loss : 0.07789180427789688\n",
            "79 / 100 |  label num : 13  | loss : 0.03931427374482155\n",
            "80 / 100 |  label num : 13  | loss : 0.04242260754108429\n",
            "81 / 100 |  label num : 12  | loss : 0.04184415191411972\n",
            "82 / 100 |  label num : 13  | loss : 0.041051436215639114\n",
            "83 / 100 |  label num : 13  | loss : 0.03735091909766197\n",
            "84 / 100 |  label num : 12  | loss : 0.03721372038125992\n",
            "85 / 100 |  label num : 13  | loss : 0.03305879980325699\n",
            "86 / 100 |  label num : 13  | loss : 0.041877105832099915\n",
            "87 / 100 |  label num : 13  | loss : 0.03541809692978859\n",
            "88 / 100 |  label num : 13  | loss : 0.03379359841346741\n",
            "89 / 100 |  label num : 13  | loss : 0.03685326874256134\n",
            "90 / 100 |  label num : 13  | loss : 0.040967296808958054\n",
            "91 / 100 |  label num : 13  | loss : 0.03219377249479294\n",
            "92 / 100 |  label num : 12  | loss : 0.034737665206193924\n",
            "93 / 100 |  label num : 13  | loss : 0.039690740406513214\n",
            "94 / 100 |  label num : 12  | loss : 0.02907637320458889\n",
            "95 / 100 |  label num : 13  | loss : 0.035572346299886703\n",
            "96 / 100 |  label num : 12  | loss : 0.033150024712085724\n",
            "97 / 100 |  label num : 12  | loss : 0.026821447536349297\n",
            "98 / 100 |  label num : 13  | loss : 0.027590317651629448\n",
            "99 / 100 |  label num : 12  | loss : 0.03895484656095505\n",
            "100 / 100 |  label num : 13  | loss : 0.037753187119960785\n"
          ]
        }
      ]
    },
    {
      "cell_type": "code",
      "source": [
        "!python /content/inference.py \\\n",
        "        --weights /content/batch_weights_c_100_conv_5.pt \\\n",
        "        --nChannel 100 \\\n",
        "        --nConv 3 \\\n",
        "        --output output_20211114T103322000Z.png \\\n",
        "        --input /content/drive/MyDrive/Data-20220522T105527Z-002/Rye/scout_point_image_20211114T103322000Z.jpe"
      ],
      "metadata": {
        "id": "0_EdFq_tdKg1"
      },
      "execution_count": 38,
      "outputs": []
    },
    {
      "cell_type": "code",
      "source": [
        ""
      ],
      "metadata": {
        "id": "ry61GzMsw6Cw"
      },
      "execution_count": null,
      "outputs": []
    },
    {
      "cell_type": "code",
      "source": [
        ""
      ],
      "metadata": {
        "id": "yQp6cL5NwXaC"
      },
      "execution_count": null,
      "outputs": []
    }
  ]
}