{
 "cells": [
  {
   "cell_type": "code",
   "execution_count": 1,
   "metadata": {
    "colab": {
     "base_uri": "https://localhost:8080/"
    },
    "id": "95gVUnN7NH7X",
    "outputId": "c72726fa-6985-4b6a-ec9a-8b9181839e87"
   },
   "outputs": [],
   "source": [
    "from google.colab import drive\n",
    "drive.mount('/content/drive')"
   ]
  },
  {
   "cell_type": "markdown",
   "metadata": {
    "id": "zPYkdmPIvtz-"
   },
   "source": [
    "# Crop"
   ]
  },
  {
   "cell_type": "code",
   "execution_count": 2,
   "metadata": {
    "id": "_aZ6wxCOeUsG"
   },
   "outputs": [],
   "source": [
    "import os\n",
    "import pandas as pd\n",
    "import seaborn as sns\n",
    "import matplotlib.pyplot as plt"
   ]
  },
  {
   "cell_type": "code",
   "execution_count": 3,
   "metadata": {
    "id": "UgDRbDGgXut1"
   },
   "outputs": [],
   "source": [
    "wheats = []\n",
    "subdir = []\n",
    "crop_folder = []\n",
    "folder_path = \"/content/drive/MyDrive/Official Folder for DroneAg Challenge/Data/Wheat\"\n",
    "for path, subdirs, files in os.walk(folder_path):\n",
    "  crop_folder.append(files)"
   ]
  },
  {
   "cell_type": "code",
   "execution_count": 4,
   "metadata": {
    "id": "vpdWwgcphdE5"
   },
   "outputs": [],
   "source": [
    "def crop(Winter_Wheat):\n",
    "  for crop_images in crop_folder:   # get images files\n",
    "    Crop  = pd.DataFrame({'Images': crop_images})  # convert to dataframe\n",
    "    Crop ['time'] = Crop ['Images'].str[18:26]     # Select year-month-day from image name\n",
    "    Crop ['time']= pd.to_datetime(Crop ['time'])   # Change column type to Dataframe\n",
    "    Crop ['month_full'] = Crop ['time'].dt.month_name()   # Get month\n",
    "    Crop ['year'] = pd.DatetimeIndex(Crop ['time']).year  # Get year\n",
    "    cols=[\"year\",\"month_full\"]                            \n",
    "    Crop ['YM'] = Crop [cols].apply(lambda x: '-'.join(x.values.astype(str)), axis=\"columns\")   # Get Month_year in one column\n",
    "    Crop  = Crop .sort_values(by=\"time\")            # Sorted by date\n",
    "\n",
    "    plt.figure(figsize=(30,10))   # Define figure size\n",
    "    ax = sns.countplot(x=\"YM\", data=Crop )     # Table type\n",
    "    plt.xlabel('\\nDate',fontsize='30',color='black')   # X axis name\n",
    "    plt.ylabel('Number of sample\\n',fontsize='30',color='black')   # Y axis name\n",
    "    plt.xticks(fontsize='14',color='black', rotation=45)           # X axis character\n",
    "    plt.yticks(fontsize='14',color='red')                          # Y axis character\n",
    "    plt.title(\"Crop  distrubtion\\n\",fontsize=40,fontweight='bold',color='indigo')  # Title of table\n",
    "\n",
    "    for p in ax.patches:\n",
    "      ax.annotate(f'\\n{p.get_height()}', (p.get_x()+0.2, p.get_height()), ha='left', va='baseline', color='black', size=15)    # height and size of count\n",
    "    plt.savefig('Crop.png', bbox_inches='tight')        # export to image file\n",
    "    plt.show()"
   ]
  },
  {
   "cell_type": "code",
   "execution_count": 5,
   "metadata": {
    "colab": {
     "base_uri": "https://localhost:8080/",
     "height": 827
    },
    "id": "Wxnz_jPLeOOh",
    "outputId": "bf00367f-afb7-4cfa-c44e-841ff39af007"
   },
   "outputs": [],
   "source": [
    "crop(crop_folder)"
   ]
  }
 ],
 "metadata": {
  "accelerator": "GPU",
  "colab": {
   "collapsed_sections": [],
   "name": "Crop_distrubtion.ipynb",
   "provenance": []
  },
  "kernelspec": {
   "display_name": "Python 3",
   "language": "python",
   "name": "python3"
  },
  "language_info": {
   "codemirror_mode": {
    "name": "ipython",
    "version": 3
   },
   "file_extension": ".py",
   "mimetype": "text/x-python",
   "name": "python",
   "nbconvert_exporter": "python",
   "pygments_lexer": "ipython3",
   "version": "3.8.6"
  }
 },
 "nbformat": 4,
 "nbformat_minor": 1
}
